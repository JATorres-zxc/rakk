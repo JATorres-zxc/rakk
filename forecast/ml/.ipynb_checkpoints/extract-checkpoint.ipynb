{
 "cells": [
  {
   "cell_type": "code",
   "execution_count": 45,
   "id": "86eab26f-ad58-4398-96d6-3beaede90835",
   "metadata": {},
   "outputs": [],
   "source": [
    "import os\n",
    "import re\n",
    "from calendar import month_abbr\n",
    "from datetime import datetime\n",
    "from itertools import zip_longest\n",
    "\n",
    "import pandas as pd"
   ]
  },
  {
   "cell_type": "code",
   "execution_count": 18,
   "id": "118c3c83-43bc-4059-9937-6936b228c57c",
   "metadata": {},
   "outputs": [],
   "source": [
    "DATE_FMT = re.compile(r\"(\\w+) (\\d+), (\\d+)\")\n",
    "MONTH_DICT = dict(zip(month_abbr, range(len(month_abbr))))\n",
    "HIGH_LOW = re.compile(r\"(high|low)$\")\n",
    "\n",
    "\n",
    "def raw_date_to_datetime(raw):\n",
    "    match = DATE_FMT.match(raw)\n",
    "    mm = MONTH_DICT[match.group(1)[:3]]\n",
    "    dd = int(match.group(2))\n",
    "    yy = int(match.group(3))\n",
    "\n",
    "    return datetime(yy, mm, dd)\n",
    "\n",
    "\n",
    "def chunks(iterable, n):\n",
    "    iterator = [iter(iterable)] * n\n",
    "\n",
    "    return zip_longest(*iterator)\n",
    "\n",
    "\n",
    "def data_dir_to_dataframe(path):\n",
    "    df = pd.DataFrame(columns=[\"date\", \"market\", \"commodity\", \"low\", \"high\"])\n",
    "\n",
    "    for entry in os.scandir(path):\n",
    "        print(\"[INFO] processing:\", entry.path)\n",
    "        try:\n",
    "            raw = pd.read_csv(entry.path)\n",
    "        except UnicodeDecodeError:\n",
    "            raw = pd.read_csv(entry.path, encoding=\"latin-1\")\n",
    "        columns = map(lambda c: c.replace(\"\\n\", \" \").lower(), raw.columns)\n",
    "        raw.rename(columns=dict(zip(raw, columns)), inplace=True)\n",
    "        raw[\"date\"] = list(map(raw_date_to_datetime, raw[\"date\"]))\n",
    "        \n",
    "        for row in raw.index:\n",
    "            row = raw.iloc[row]\n",
    "            date = row[\"date\"]\n",
    "            market = row[\"market\"]\n",
    "            for (name, low), (_, high) in chunks(row[2:].items(), 2):\n",
    "                name = name[:-4]\n",
    "                df.loc[len(df)] = [date, market, name, low, high]\n",
    "\n",
    "    return df"
   ]
  }
 ],
 "metadata": {
  "kernelspec": {
   "display_name": "Python 3 (ipykernel)",
   "language": "python",
   "name": "python3"
  },
  "language_info": {
   "codemirror_mode": {
    "name": "ipython",
    "version": 3
   },
   "file_extension": ".py",
   "mimetype": "text/x-python",
   "name": "python",
   "nbconvert_exporter": "python",
   "pygments_lexer": "ipython3",
   "version": "3.13.2"
  }
 },
 "nbformat": 4,
 "nbformat_minor": 5
}
