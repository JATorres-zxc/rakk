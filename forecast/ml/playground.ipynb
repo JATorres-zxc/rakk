{
 "cells": [
  {
   "cell_type": "code",
   "execution_count": 1,
   "id": "72efbab8-e3a3-4312-8a58-5c912d482b89",
   "metadata": {
    "scrolled": true
   },
   "outputs": [],
   "source": [
    "import math\n",
    "import os\n",
    "\n",
    "\n",
    "os.environ[\"KERAS_BACKEND\"] = \"torch\"\n",
    "\n",
    "\n",
    "import numpy as np\n",
    "import pandas as pd\n",
    "from keras.layers import LSTM, Dense, Dropout, Normalization, Input\n",
    "from keras.models import Sequential\n",
    "from matplotlib import pyplot as plt\n",
    "\n",
    "\n",
    "def is_prime(n):\n",
    "    if n == 1:\n",
    "        return False\n",
    "    if n == 2:\n",
    "        return True\n",
    "    for ith in range(3, math.ceil(math.sqrt(n)), 2):\n",
    "        if n % ith == 0:\n",
    "            return False\n",
    "            \n",
    "    return True"
   ]
  },
  {
   "cell_type": "code",
   "execution_count": 2,
   "id": "d8e7236d-2ddf-4e71-9d87-23b10c348440",
   "metadata": {
    "scrolled": true
   },
   "outputs": [],
   "source": [
    "df = pd.read_csv(\"../../.data/lowhigh_2023_2025.csv\")\n",
    "del df[\"Unnamed: 0\"]\n",
    "df = df[df[\"low\"] != \"NOT AVAILABLE\"]\n",
    "df = df.dropna()"
   ]
  },
  {
   "cell_type": "code",
   "execution_count": 6,
   "id": "cb2af462-b61e-43ac-8f8f-ea19b2b0d160",
   "metadata": {},
   "outputs": [
    {
     "data": {
      "text/plain": [
       "{'ampalaya',\n",
       " 'cabbage',\n",
       " 'cabbage (rareball)',\n",
       " 'cabbage (scorpio)',\n",
       " 'cabbage (wonderball)',\n",
       " 'corn (white)',\n",
       " 'corn (yellow)',\n",
       " 'egg (medium)',\n",
       " 'eggplant',\n",
       " 'fresh pork kasim/pigue',\n",
       " 'fresh pork liempo',\n",
       " 'fresh whole chicken',\n",
       " 'frozen pork kasim/pigue',\n",
       " 'frozen pork liempo',\n",
       " 'galunggong',\n",
       " 'galunggong (local)',\n",
       " 'pechay baguio',\n",
       " 'red onion (local)',\n",
       " 'sugar (refined)',\n",
       " 'sugar (washed)',\n",
       " 'tilapia',\n",
       " 'tomato',\n",
       " 'well-milled rice (local)'}"
      ]
     },
     "execution_count": 6,
     "metadata": {},
     "output_type": "execute_result"
    }
   ],
   "source": [
    "import re\n",
    "\n",
    "\n",
    "def treat_doubles(s):\n",
    "    reg = re.compile(r\"(\\d+\\.*\\d*) (\\d+\\.*\\d*)\")\n",
    "    if match := reg.search(s):\n",
    "        return match.group(1)\n",
    "    return s\n",
    "\n",
    "\n",
    "murphy = df[df[\"market\"] == \"Murphy Public Market\"]\n",
    "murphy[murphy[\"commodity\"] == \"galunggong\"][\"low\"].apply(treat_doubles).values\n",
    "df[df[\"low\"] == \"45.00 NOT AVAILABLE\"]\n",
    "\n",
    "set(df[\"commodity\"])"
   ]
  },
  {
   "cell_type": "code",
   "execution_count": null,
   "id": "541f085c-7578-4d17-b5db-f313e84e6e75",
   "metadata": {
    "scrolled": true
   },
   "outputs": [],
   "source": [
    "data_by_commodities = {}\n",
    "\n",
    "for commodity in set(df[\"commodity\"]):\n",
    "    # print(\"[INFO] processing:\", commodity)\n",
    "    data_by_commodities[commodity] = df.loc[df[\"commodity\"] == commodity]\n",
    "\n",
    "data_by_commodities"
   ]
  },
  {
   "cell_type": "code",
   "execution_count": null,
   "id": "603c218b-c061-44ff-8e53-907b228464ec",
   "metadata": {
    "scrolled": true
   },
   "outputs": [],
   "source": [
    "data_by_market = {}\n",
    "for market in set(df[\"market\"]):\n",
    "    data_by_market[market] = df[df[\"market\"] == market]\n",
    "\n",
    "data_by_market"
   ]
  },
  {
   "cell_type": "code",
   "execution_count": null,
   "id": "a339d891-de0c-4656-bd11-21802561069f",
   "metadata": {
    "scrolled": true
   },
   "outputs": [],
   "source": [
    "# df_commodity = data_by_commodities[\"cabbage (scorpio)\"]\n",
    "# df_commodity = data_by_commodities[\"eggplant\"]  # NOTE: data too low, do not include\n",
    "# df_commodity = data_by_commodities[\"\"]\n",
    "# df_commodity_market = df_commodity[df_commodity[\"market\"] == \"Pateros Market\"]\n",
    "\n",
    "df_market = data_by_market[\"Pateros Market\"]\n",
    "df_commodity_market = df_market[df_market[\"commodity\"] == \"egg (medium)\"]\n",
    "x = pd.to_datetime(df_commodity_market[\"date\"])\n",
    "low = pd.to_numeric(df_commodity_market[\"low\"])\n",
    "high = pd.to_numeric(df_commodity_market[\"high\"])\n",
    "df_commodity_market"
   ]
  },
  {
   "cell_type": "code",
   "execution_count": null,
   "id": "cfd86932-b1b8-4b1d-8ed0-4011a896cd28",
   "metadata": {},
   "outputs": [],
   "source": [
    "plt.figure(figsize=(30, 6))\n",
    "plt.xticks(rotation=45)\n",
    "plt.plot(x, low, \"o-b\", x, high, \"o-r\")\n",
    "plt.legend([\"low\", \"high\"])"
   ]
  },
  {
   "cell_type": "code",
   "execution_count": null,
   "id": "1fc2affc-08f5-428e-99b2-aa9b5d7adc6d",
   "metadata": {},
   "outputs": [],
   "source": [
    "df_train = df_commodity_market[[\"high\", \"low\"]]\n",
    "if is_prime(df_train.shape[0]):\n",
    "    df_train = df_train.iloc[1:]\n",
    "df_train = df_train.iloc[::-1]\n",
    "df_train.shape\n",
    "\n",
    "np.var(df_train[[\"low\", \"high\"]].to_numpy(dtype=\"float32\"))"
   ]
  },
  {
   "cell_type": "code",
   "execution_count": null,
   "id": "b451047f-5eb0-4f6d-8f02-f612f112be65",
   "metadata": {
    "scrolled": true
   },
   "outputs": [],
   "source": [
    "train_x = []\n",
    "train_y = []\n",
    "train_n_future = 1\n",
    "train_n_past = 5\n",
    "\n",
    "for ith in range(0, df_train.shape[0], train_n_past + train_n_future):\n",
    "    tail = ith + train_n_past\n",
    "    past = df_train.iloc[ith:tail].to_numpy(dtype=\"float32\")\n",
    "    if past.shape[0] == train_n_past:\n",
    "        train_x.append(past)\n",
    "    else:\n",
    "        continue\n",
    "    train_y.append(df_train.iloc[tail:tail + train_n_future, 0:1].to_numpy(dtype=\"float32\"))\n",
    "\n",
    "train_x, train_y"
   ]
  },
  {
   "cell_type": "code",
   "execution_count": null,
   "id": "57f7686d-9d25-43d4-aff4-4fda372ee3e1",
   "metadata": {},
   "outputs": [],
   "source": [
    "train_x = np.array(train_x)\n",
    "train_y = np.array(train_y)\n",
    "train_x.shape, train_y.shape"
   ]
  },
  {
   "cell_type": "code",
   "execution_count": null,
   "id": "10a16be3-d29b-458b-abf2-26a3e90be668",
   "metadata": {
    "scrolled": true
   },
   "outputs": [],
   "source": [
    "mean = np.mean([low, high])\n",
    "var = np.var([low, high])\n",
    "\n",
    "model = Sequential()\n",
    "model.add(Input(shape=(train_x.shape[1], train_x.shape[2])))\n",
    "model.add(Normalization(mean=mean, variance=var))\n",
    "model.add(LSTM(128, activation=\"relu\", return_sequences=True))\n",
    "model.add(LSTM(64, activation=\"relu\", return_sequences=False))\n",
    "model.add(Dropout(0.3))\n",
    "model.add(Dense(train_y.shape[1]))\n",
    "model.add(Normalization(mean=mean, variance=var, invert=True))\n",
    "\n",
    "model.compile(optimizer=\"nadam\", loss=\"mse\")\n",
    "model.summary()\n",
    "\n",
    "mean, var"
   ]
  },
  {
   "cell_type": "code",
   "execution_count": null,
   "id": "6854e8be-3131-4aa7-833b-72c489a3cbe1",
   "metadata": {
    "scrolled": true
   },
   "outputs": [],
   "source": [
    "hist = model.fit(train_x, train_y, epochs=200, batch_size=16, validation_split=0.1, verbose=1)\n",
    "plt.plot(hist.history[\"loss\"], label=\"Loss\")\n",
    "plt.plot(hist.history[\"val_loss\"], label=\"Validation loss\")\n",
    "plt.legend()"
   ]
  },
  {
   "cell_type": "code",
   "execution_count": null,
   "id": "b5d85dd2-14b9-453d-a874-274ba1d2d78d",
   "metadata": {
    "scrolled": true
   },
   "outputs": [],
   "source": [
    "days_to_predict = train_x.shape[0]\n",
    "train_x_rev = train_x[::-1] \n",
    "date = pd.to_datetime(df.iloc[df.shape[0] - 1][\"date\"])\n",
    "dates = [date + pd.Timedelta(days=ith) for ith in range(days_to_predict)]\n",
    "prices = model.predict(train_x_rev[-days_to_predict:])\n",
    "plt.figure(figsize=(10, 6))\n",
    "plt.plot(dates, prices, \"o-\")"
   ]
  },
  {
   "cell_type": "code",
   "execution_count": null,
   "id": "268faa16-5dbd-4003-b085-b0b2db7ad7fa",
   "metadata": {},
   "outputs": [],
   "source": [
    "prices"
   ]
  }
 ],
 "metadata": {
  "kernelspec": {
   "display_name": "Python 3 (ipykernel)",
   "language": "python",
   "name": "python3"
  },
  "language_info": {
   "codemirror_mode": {
    "name": "ipython",
    "version": 3
   },
   "file_extension": ".py",
   "mimetype": "text/x-python",
   "name": "python",
   "nbconvert_exporter": "python",
   "pygments_lexer": "ipython3",
   "version": "3.11.11"
  }
 },
 "nbformat": 4,
 "nbformat_minor": 5
}
